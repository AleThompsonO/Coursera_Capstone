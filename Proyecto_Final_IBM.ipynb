{
  "nbformat": 4,
  "nbformat_minor": 0,
  "metadata": {
    "colab": {
      "provenance": []
    },
    "kernelspec": {
      "name": "python3",
      "display_name": "Python 3"
    },
    "language_info": {
      "name": "python"
    }
  },
  "cells": [
    {
      "cell_type": "code",
      "execution_count": 1,
      "metadata": {
        "id": "E6BwLsnNx-Yz"
      },
      "outputs": [],
      "source": [
        "#Este es el primer archivo de mi repositorio. Fue creado para el curso Cienca de datos Aplicada - IBM"
      ]
    },
    {
      "cell_type": "code",
      "source": [
        "import pandas as pd\n",
        "import numpy as np\n"
      ],
      "metadata": {
        "id": "rNFODIvDyOiT"
      },
      "execution_count": 2,
      "outputs": []
    },
    {
      "cell_type": "code",
      "source": [
        "print(\"¡Hola, Proyecto Final del Curso!\")"
      ],
      "metadata": {
        "colab": {
          "base_uri": "https://localhost:8080/"
        },
        "id": "qWv5tJCyyXO_",
        "outputId": "03595d46-d463-46eb-81d9-a758500877d9"
      },
      "execution_count": 3,
      "outputs": [
        {
          "output_type": "stream",
          "name": "stdout",
          "text": [
            "¡Hola, Proyecto Final del Curso!\n"
          ]
        }
      ]
    },
    {
      "cell_type": "code",
      "source": [],
      "metadata": {
        "id": "_6rEY6I6ycDI"
      },
      "execution_count": null,
      "outputs": []
    }
  ]
}